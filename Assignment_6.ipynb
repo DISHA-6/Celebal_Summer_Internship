{
  "nbformat": 4,
  "nbformat_minor": 0,
  "metadata": {
    "colab": {
      "provenance": [],
      "gpuType": "T4"
    },
    "kernelspec": {
      "name": "python3",
      "display_name": "Python 3"
    },
    "language_info": {
      "name": "python"
    },
    "accelerator": "GPU"
  },
  "cells": [
    {
      "cell_type": "code",
      "execution_count": 2,
      "metadata": {
        "id": "LDUYTM10harm"
      },
      "outputs": [],
      "source": [
        "import numpy as np\n",
        "import pandas as pd\n",
        "import seaborn as sns\n",
        "from matplotlib import pyplot as plt\n",
        "# !pip install missingno\n",
        "import missingno as msno\n",
        "from datetime import date\n",
        "from sklearn.metrics import accuracy_score\n",
        "from sklearn.model_selection import train_test_split\n",
        "from sklearn.neighbors import LocalOutlierFactor\n",
        "from sklearn.preprocessing import MinMaxScaler, LabelEncoder, StandardScaler, RobustScaler"
      ]
    },
    {
      "cell_type": "code",
      "source": [
        "def load_application_train():\n",
        "    data = pd.read_csv(\"/content/drive/MyDrive/Colab Notebooks/application_train.csv\")\n",
        "    return data\n"
      ],
      "metadata": {
        "id": "MUAd-rH5hqqZ"
      },
      "execution_count": 3,
      "outputs": []
    },
    {
      "cell_type": "code",
      "source": [
        "df = load_application_train()\n",
        "print(df.shape)"
      ],
      "metadata": {
        "colab": {
          "base_uri": "https://localhost:8080/"
        },
        "id": "FUU9-e2Khqm2",
        "outputId": "05a64c20-6786-4137-99e5-d443d5bf1f51"
      },
      "execution_count": 4,
      "outputs": [
        {
          "output_type": "stream",
          "name": "stdout",
          "text": [
            "(307511, 122)\n"
          ]
        }
      ]
    },
    {
      "cell_type": "code",
      "source": [
        "def load():\n",
        "    data = pd.read_csv(\"/content/drive/MyDrive/Colab Notebooks/titanic.csv\")\n",
        "    return data"
      ],
      "metadata": {
        "id": "CDCYfglWhqjR"
      },
      "execution_count": 5,
      "outputs": []
    },
    {
      "cell_type": "code",
      "source": [
        "df = load()\n",
        "print(df.shape)"
      ],
      "metadata": {
        "colab": {
          "base_uri": "https://localhost:8080/"
        },
        "id": "xURjRnayhqhA",
        "outputId": "54a5a9ba-57d4-4512-ba41-95900a3a1426"
      },
      "execution_count": 6,
      "outputs": [
        {
          "output_type": "stream",
          "name": "stdout",
          "text": [
            "(891, 12)\n"
          ]
        }
      ]
    },
    {
      "cell_type": "code",
      "source": [
        "sns.boxplot(x=df[\"Age\"])\n",
        "plt.show()"
      ],
      "metadata": {
        "colab": {
          "base_uri": "https://localhost:8080/",
          "height": 449
        },
        "id": "u5WA3m7ChqeK",
        "outputId": "eba1cdf1-5634-43ae-a7e7-9277524986c1"
      },
      "execution_count": 7,
      "outputs": [
        {
          "output_type": "display_data",
          "data": {
            "text/plain": [
              "<Figure size 640x480 with 1 Axes>"
            ],
            "image/png": "[encoded data removed]"
          },
          "metadata": {}
        }
      ]
    },
    {
      "cell_type": "code",
      "source": [
        "q1 = df[\"Age\"].quantile(0.25)\n",
        "q3 = df[\"Age\"].quantile(0.75)\n",
        "iqr = q3 - q1\n",
        "up = q3 + 1.5 * iqr\n",
        "low = q1 - 1.5 * iqr"
      ],
      "metadata": {
        "id": "cY68gzmMhqbb"
      },
      "execution_count": 8,
      "outputs": []
    },
    {
      "cell_type": "code",
      "source": [
        "print(df[(df[\"Age\"] < low) | (df[\"Age\"] > up)])"
      ],
      "metadata": {
        "colab": {
          "base_uri": "https://localhost:8080/"
        },
        "id": "sVYovtpdhqYY",
        "outputId": "57b787ba-cd64-4992-e02d-f863aea7379d"
      },
      "execution_count": 9,
      "outputs": [
        {
          "output_type": "stream",
          "name": "stdout",
          "text": [
            "     PassengerId  Survived  Pclass                                  Name  \\\n",
            "33            34         0       2                 Wheadon, Mr. Edward H   \n",
            "54            55         0       1        Ostby, Mr. Engelhart Cornelius   \n",
            "96            97         0       1             Goldschmidt, Mr. George B   \n",
            "116          117         0       3                  Connors, Mr. Patrick   \n",
            "280          281         0       3                      Duane, Mr. Frank   \n",
            "456          457         0       1             Millet, Mr. Francis Davis   \n",
            "493          494         0       1               Artagaveytia, Mr. Ramon   \n",
            "630          631         1       1  Barkworth, Mr. Algernon Henry Wilson   \n",
            "672          673         0       2           Mitchell, Mr. Henry Michael   \n",
            "745          746         0       1          Crosby, Capt. Edward Gifford   \n",
            "851          852         0       3                   Svensson, Mr. Johan   \n",
            "\n",
            "      Sex   Age  SibSp  Parch      Ticket     Fare Cabin Embarked  \n",
            "33   male  66.0      0      0  C.A. 24579  10.5000   NaN        S  \n",
            "54   male  65.0      0      1      113509  61.9792   B30        C  \n",
            "96   male  71.0      0      0    PC 17754  34.6542    A5        C  \n",
            "116  male  70.5      0      0      370369   7.7500   NaN        Q  \n",
            "280  male  65.0      0      0      336439   7.7500   NaN        Q  \n",
            "456  male  65.0      0      0       13509  26.5500   E38        S  \n",
            "493  male  71.0      0      0    PC 17609  49.5042   NaN        C  \n",
            "630  male  80.0      0      0       27042  30.0000   A23        S  \n",
            "672  male  70.0      0      0  C.A. 24580  10.5000   NaN        S  \n",
            "745  male  70.0      1      1   WE/P 5735  71.0000   B22        S  \n",
            "851  male  74.0      0      0      347060   7.7750   NaN        S  \n"
          ]
        }
      ]
    },
    {
      "cell_type": "code",
      "source": [
        "print(df[(df[\"Age\"] < low) | (df[\"Age\"] > up)].index)"
      ],
      "metadata": {
        "colab": {
          "base_uri": "https://localhost:8080/"
        },
        "id": "GegUBy22hqVg",
        "outputId": "903d9814-e9bf-4ae5-d83e-cbd3ea051ac9"
      },
      "execution_count": 10,
      "outputs": [
        {
          "output_type": "stream",
          "name": "stdout",
          "text": [
            "Index([33, 54, 96, 116, 280, 456, 493, 630, 672, 745, 851], dtype='int64')\n"
          ]
        }
      ]
    },
    {
      "cell_type": "code",
      "source": [
        "print(df[(df[\"Age\"] < low) | (df[\"Age\"] > up)].any(axis=None))"
      ],
      "metadata": {
        "colab": {
          "base_uri": "https://localhost:8080/"
        },
        "id": "7-hi818ghqSw",
        "outputId": "9589aa53-965b-45e9-fbaf-ae55c336a40a"
      },
      "execution_count": 11,
      "outputs": [
        {
          "output_type": "stream",
          "name": "stdout",
          "text": [
            "True\n"
          ]
        }
      ]
    },
    {
      "cell_type": "code",
      "source": [
        "print(df[(df[\"Age\"] < low)].any(axis=None))"
      ],
      "metadata": {
        "colab": {
          "base_uri": "https://localhost:8080/"
        },
        "id": "wupv4ITXhqP8",
        "outputId": "3e6f1fa1-f289-4e5d-e841-2585077d72dc"
      },
      "execution_count": 12,
      "outputs": [
        {
          "output_type": "stream",
          "name": "stdout",
          "text": [
            "False\n"
          ]
        }
      ]
    },
    {
      "cell_type": "code",
      "source": [
        "def outlier_thresholds(dataframe, col_name, q1=0.25, q3=0.75):\n",
        "    quartile1 = dataframe[col_name].quantile(q1)\n",
        "    quartile3 = dataframe[col_name].quantile(q3)\n",
        "    interquantile_range = quartile3 - quartile1\n",
        "    up_limit = quartile3 + 1.5 * interquantile_range\n",
        "    low_limit = quartile1 - 1.5 * interquantile_range\n",
        "    return low_limit, up_limit"
      ],
      "metadata": {
        "id": "lAWKPcI1hqE1"
      },
      "execution_count": 13,
      "outputs": []
    },
    {
      "cell_type": "code",
      "source": [
        "print(outlier_thresholds(df, \"Age\"))"
      ],
      "metadata": {
        "colab": {
          "base_uri": "https://localhost:8080/"
        },
        "id": "rJ1vP1uNjaBW",
        "outputId": "1f751f9e-d17f-47ac-eabc-e7aef9ae38d4"
      },
      "execution_count": 14,
      "outputs": [
        {
          "output_type": "stream",
          "name": "stdout",
          "text": [
            "(-6.6875, 64.8125)\n"
          ]
        }
      ]
    },
    {
      "cell_type": "code",
      "source": [
        "low, up = outlier_thresholds(df, \"Fare\")\n",
        "print(df[(df[\"Fare\"] < low) | (df[\"Fare\"] > up)].head())"
      ],
      "metadata": {
        "colab": {
          "base_uri": "https://localhost:8080/"
        },
        "id": "mv4n4KsajZ-A",
        "outputId": "5bec2857-a07b-49c7-89f3-bea30fc76ff0"
      },
      "execution_count": 15,
      "outputs": [
        {
          "output_type": "stream",
          "name": "stdout",
          "text": [
            "    PassengerId  Survived  Pclass  \\\n",
            "1             2         1       1   \n",
            "27           28         0       1   \n",
            "31           32         1       1   \n",
            "34           35         0       1   \n",
            "52           53         1       1   \n",
            "\n",
            "                                                 Name     Sex   Age  SibSp  \\\n",
            "1   Cumings, Mrs. John Bradley (Florence Briggs Th...  female  38.0      1   \n",
            "27                     Fortune, Mr. Charles Alexander    male  19.0      3   \n",
            "31     Spencer, Mrs. William Augustus (Marie Eugenie)  female   NaN      1   \n",
            "34                            Meyer, Mr. Edgar Joseph    male  28.0      1   \n",
            "52           Harper, Mrs. Henry Sleeper (Myna Haxtun)  female  49.0      1   \n",
            "\n",
            "    Parch    Ticket      Fare        Cabin Embarked  \n",
            "1       0  PC 17599   71.2833          C85        C  \n",
            "27      2     19950  263.0000  C23 C25 C27        S  \n",
            "31      0  PC 17569  146.5208          B78        C  \n",
            "34      0  PC 17604   82.1708          NaN        C  \n",
            "52      0  PC 17572   76.7292          D33        C  \n"
          ]
        }
      ]
    },
    {
      "cell_type": "code",
      "source": [
        "def check_outlier(dataframe, col_name):\n",
        "    low_limit, up_limit = outlier_thresholds(dataframe, col_name)\n",
        "    if dataframe[(dataframe[col_name] > up_limit) | (dataframe[col_name] < low_limit)].any(axis=None):\n",
        "        return True\n",
        "    else:\n",
        "        return False"
      ],
      "metadata": {
        "id": "a1xWjJRkjZ7z"
      },
      "execution_count": 16,
      "outputs": []
    },
    {
      "cell_type": "code",
      "source": [
        "print(check_outlier(df, \"Age\"))"
      ],
      "metadata": {
        "colab": {
          "base_uri": "https://localhost:8080/"
        },
        "id": "W-jPOYWtjZ5G",
        "outputId": "ea64a035-de87-499e-f0ed-7b2ea5d4709b"
      },
      "execution_count": 17,
      "outputs": [
        {
          "output_type": "stream",
          "name": "stdout",
          "text": [
            "True\n"
          ]
        }
      ]
    },
    {
      "cell_type": "code",
      "source": [
        "print(check_outlier(df, \"Fare\"))"
      ],
      "metadata": {
        "colab": {
          "base_uri": "https://localhost:8080/"
        },
        "id": "vVX9RKOGjZ2q",
        "outputId": "a35f3b25-03e3-4263-fdd2-a71011874023"
      },
      "execution_count": 18,
      "outputs": [
        {
          "output_type": "stream",
          "name": "stdout",
          "text": [
            "True\n"
          ]
        }
      ]
    },
    {
      "cell_type": "code",
      "source": [
        "def grab_col_names(dataframe, cat_th=10, car_th=20):\n",
        "   cat_cols = [col for col in dataframe.columns if dataframe[col].dtypes == \"O\"]\n",
        "   num_but_cat = [col for col in dataframe.columns if dataframe[col].nunique() < cat_th and dataframe[col].dtypes != \"O\"]\n",
        "   cat_but_car = [col for col in dataframe.columns if dataframe[col].nunique() > car_th and dataframe[col].dtypes == \"O\"]\n",
        "   cat_cols = cat_cols + num_but_cat\n",
        "   cat_cols = [col for col in cat_cols if col not in cat_but_car]\n",
        "   num_cols = [col for col in dataframe.columns if dataframe[col].dtypes != \"O\" and col not in num_but_cat]\n",
        "\n",
        "   print(f\"Observations: {dataframe.shape[0]}\")\n",
        "   print(f\"Variables: {dataframe.shape[1]}\")\n",
        "   print(f\"cat_cols: {len(cat_cols)}\")\n",
        "   print(f\"num_cols: {len(num_cols)}\")\n",
        "   print(f\"cat_but_car: {len(cat_but_car)}\")\n",
        "   print(f\"num_but_cat: {len(num_but_cat)}\")\n",
        "\n",
        "   return cat_cols, num_cols, cat_but_car\n"
      ],
      "metadata": {
        "id": "3msw1lr4jZz0"
      },
      "execution_count": 19,
      "outputs": []
    },
    {
      "cell_type": "code",
      "source": [
        "cat_cols, num_cols, cat_but_car = grab_col_names(df)"
      ],
      "metadata": {
        "colab": {
          "base_uri": "https://localhost:8080/"
        },
        "id": "VynpLIEDjZxS",
        "outputId": "3799a555-2051-457c-f737-c8d960f406ab"
      },
      "execution_count": 20,
      "outputs": [
        {
          "output_type": "stream",
          "name": "stdout",
          "text": [
            "Observations: 891\n",
            "Variables: 12\n",
            "cat_cols: 6\n",
            "num_cols: 3\n",
            "cat_but_car: 3\n",
            "num_but_cat: 4\n"
          ]
        }
      ]
    },
    {
      "cell_type": "code",
      "source": [
        "num_cols = [col for col in num_cols if col not in \"PassengerId\"]\n",
        "print(num_cols)"
      ],
      "metadata": {
        "colab": {
          "base_uri": "https://localhost:8080/"
        },
        "id": "GmvHu3nejZu7",
        "outputId": "4a6a6f8b-86f5-4068-ac05-8a03024be01d"
      },
      "execution_count": 21,
      "outputs": [
        {
          "output_type": "stream",
          "name": "stdout",
          "text": [
            "['Age', 'Fare']\n"
          ]
        }
      ]
    },
    {
      "cell_type": "code",
      "source": [
        "for col in num_cols:\n",
        "    print(col, check_outlier(df, col))"
      ],
      "metadata": {
        "colab": {
          "base_uri": "https://localhost:8080/"
        },
        "id": "oPhMLhDyjZse",
        "outputId": "aaeee044-d31c-42ae-c53e-9de396bbb4fb"
      },
      "execution_count": 22,
      "outputs": [
        {
          "output_type": "stream",
          "name": "stdout",
          "text": [
            "Age True\n",
            "Fare True\n"
          ]
        }
      ]
    },
    {
      "cell_type": "code",
      "source": [
        "dff = load_application_train()\n",
        "\n",
        "cat_cols, num_cols, cat_but_car = grab_col_names(dff)"
      ],
      "metadata": {
        "id": "j6sWyAGQjZpz",
        "colab": {
          "base_uri": "https://localhost:8080/"
        },
        "outputId": "537a4969-da30-4104-d2ff-77891b191736"
      },
      "execution_count": 23,
      "outputs": [
        {
          "output_type": "stream",
          "name": "stdout",
          "text": [
            "Observations: 307511\n",
            "Variables: 122\n",
            "cat_cols: 54\n",
            "num_cols: 67\n",
            "cat_but_car: 1\n",
            "num_but_cat: 39\n"
          ]
        }
      ]
    },
    {
      "cell_type": "code",
      "source": [
        "num_cols.remove('SK_ID_CURR')"
      ],
      "metadata": {
        "id": "a9Gp-VwFjZnX"
      },
      "execution_count": 24,
      "outputs": []
    },
    {
      "cell_type": "code",
      "source": [
        "print()\n",
        "print()\n"
      ],
      "metadata": {
        "id": "2lghx9VnjZk9",
        "colab": {
          "base_uri": "https://localhost:8080/"
        },
        "outputId": "cfaffcfe-c3c8-4aa0-bb08-a197228b796d"
      },
      "execution_count": 25,
      "outputs": [
        {
          "output_type": "stream",
          "name": "stdout",
          "text": [
            "\n",
            "\n"
          ]
        }
      ]
    },
    {
      "cell_type": "code",
      "source": [
        "for col in num_cols:\n",
        "    print(col, check_outlier(dff, col))"
      ],
      "metadata": {
        "id": "BjvQ8S5FjZic",
        "colab": {
          "base_uri": "https://localhost:8080/"
        },
        "outputId": "3e6bbe55-d70c-41b6-91ef-7d2d366dd04f"
      },
      "execution_count": 26,
      "outputs": [
        {
          "output_type": "stream",
          "name": "stdout",
          "text": [
            "CNT_CHILDREN True\n",
            "AMT_INCOME_TOTAL True\n",
            "AMT_CREDIT True\n",
            "AMT_ANNUITY True\n",
            "AMT_GOODS_PRICE True\n",
            "REGION_POPULATION_RELATIVE True\n",
            "DAYS_BIRTH False\n",
            "DAYS_EMPLOYED True\n",
            "DAYS_REGISTRATION True\n",
            "DAYS_ID_PUBLISH False\n",
            "OWN_CAR_AGE True\n",
            "CNT_FAM_MEMBERS True\n",
            "HOUR_APPR_PROCESS_START True\n",
            "EXT_SOURCE_1 False\n",
            "EXT_SOURCE_2 False\n",
            "EXT_SOURCE_3 False\n",
            "APARTMENTS_AVG True\n",
            "BASEMENTAREA_AVG True\n",
            "YEARS_BEGINEXPLUATATION_AVG True\n",
            "YEARS_BUILD_AVG True\n",
            "COMMONAREA_AVG True\n",
            "ELEVATORS_AVG True\n",
            "ENTRANCES_AVG True\n",
            "FLOORSMAX_AVG True\n",
            "FLOORSMIN_AVG True\n",
            "LANDAREA_AVG True\n",
            "LIVINGAPARTMENTS_AVG True\n",
            "LIVINGAREA_AVG True\n",
            "NONLIVINGAPARTMENTS_AVG True\n",
            "NONLIVINGAREA_AVG True\n",
            "APARTMENTS_MODE True\n",
            "BASEMENTAREA_MODE True\n",
            "YEARS_BEGINEXPLUATATION_MODE True\n",
            "YEARS_BUILD_MODE True\n",
            "COMMONAREA_MODE True\n",
            "ELEVATORS_MODE True\n",
            "ENTRANCES_MODE True\n",
            "FLOORSMAX_MODE True\n",
            "FLOORSMIN_MODE True\n",
            "LANDAREA_MODE True\n",
            "LIVINGAPARTMENTS_MODE True\n",
            "LIVINGAREA_MODE True\n",
            "NONLIVINGAPARTMENTS_MODE True\n",
            "NONLIVINGAREA_MODE True\n",
            "APARTMENTS_MEDI True\n",
            "BASEMENTAREA_MEDI True\n",
            "YEARS_BEGINEXPLUATATION_MEDI True\n",
            "YEARS_BUILD_MEDI True\n",
            "COMMONAREA_MEDI True\n",
            "ELEVATORS_MEDI True\n",
            "ENTRANCES_MEDI True\n",
            "FLOORSMAX_MEDI True\n",
            "FLOORSMIN_MEDI True\n",
            "LANDAREA_MEDI True\n",
            "LIVINGAPARTMENTS_MEDI True\n",
            "LIVINGAREA_MEDI True\n",
            "NONLIVINGAPARTMENTS_MEDI True\n",
            "NONLIVINGAREA_MEDI True\n",
            "TOTALAREA_MODE True\n",
            "OBS_30_CNT_SOCIAL_CIRCLE True\n",
            "DEF_30_CNT_SOCIAL_CIRCLE True\n",
            "OBS_60_CNT_SOCIAL_CIRCLE True\n",
            "DAYS_LAST_PHONE_CHANGE True\n",
            "AMT_REQ_CREDIT_BUREAU_MON True\n",
            "AMT_REQ_CREDIT_BUREAU_QRT True\n",
            "AMT_REQ_CREDIT_BUREAU_YEAR True\n"
          ]
        }
      ]
    },
    {
      "cell_type": "code",
      "source": [
        "def grab_outliers(dataframe, col_name, outlier_index=False, f = 5):\n",
        "    low, up = outlier_thresholds(dataframe, col_name)\n",
        "\n",
        "    if dataframe[((dataframe[col_name] < low) | (dataframe[col_name] > up))].shape[0] > 10:\n",
        "        print(dataframe[((dataframe[col_name] < low) | (dataframe[col_name] > up))].head(f))\n",
        "    else:\n",
        "        print(dataframe[((dataframe[col_name] < low) | (dataframe[col_name] > up))])\n",
        "\n",
        "    if outlier_index:\n",
        "        out_index = dataframe[((dataframe[col_name] < low) | (dataframe[col_name] > up))].index\n",
        "        return out_index"
      ],
      "metadata": {
        "id": "U6YSSnB6jZfx"
      },
      "execution_count": 27,
      "outputs": []
    },
    {
      "cell_type": "code",
      "source": [
        "age_index = grab_outliers(df, \"Age\", True)"
      ],
      "metadata": {
        "id": "NjjwfDvWjZc7",
        "colab": {
          "base_uri": "https://localhost:8080/"
        },
        "outputId": "88d637ef-346d-4b85-e5c6-03d11c5cfc52"
      },
      "execution_count": 28,
      "outputs": [
        {
          "output_type": "stream",
          "name": "stdout",
          "text": [
            "     PassengerId  Survived  Pclass                            Name   Sex  \\\n",
            "33            34         0       2           Wheadon, Mr. Edward H  male   \n",
            "54            55         0       1  Ostby, Mr. Engelhart Cornelius  male   \n",
            "96            97         0       1       Goldschmidt, Mr. George B  male   \n",
            "116          117         0       3            Connors, Mr. Patrick  male   \n",
            "280          281         0       3                Duane, Mr. Frank  male   \n",
            "\n",
            "      Age  SibSp  Parch      Ticket     Fare Cabin Embarked  \n",
            "33   66.0      0      0  C.A. 24579  10.5000   NaN        S  \n",
            "54   65.0      0      1      113509  61.9792   B30        C  \n",
            "96   71.0      0      0    PC 17754  34.6542    A5        C  \n",
            "116  70.5      0      0      370369   7.7500   NaN        Q  \n",
            "280  65.0      0      0      336439   7.7500   NaN        Q  \n"
          ]
        }
      ]
    },
    {
      "cell_type": "code",
      "source": [
        "print(age_index)"
      ],
      "metadata": {
        "colab": {
          "base_uri": "https://localhost:8080/"
        },
        "id": "FPGIKfsfG66L",
        "outputId": "847f14c7-e87e-4537-805a-29f08e290f76"
      },
      "execution_count": 29,
      "outputs": [
        {
          "output_type": "stream",
          "name": "stdout",
          "text": [
            "Index([33, 54, 96, 116, 280, 456, 493, 630, 672, 745, 851], dtype='int64')\n"
          ]
        }
      ]
    },
    {
      "cell_type": "code",
      "source": [
        "df = load()"
      ],
      "metadata": {
        "id": "rnIvwBZnG62x"
      },
      "execution_count": 30,
      "outputs": []
    },
    {
      "cell_type": "code",
      "source": [
        "low, up = outlier_thresholds(df, \"Fare\")"
      ],
      "metadata": {
        "id": "KFNYbrOHG60g"
      },
      "execution_count": 31,
      "outputs": []
    },
    {
      "cell_type": "code",
      "source": [
        "print(df.shape)"
      ],
      "metadata": {
        "colab": {
          "base_uri": "https://localhost:8080/"
        },
        "id": "JrqbGp35G6x1",
        "outputId": "f4c6098c-b7ef-4c80-975d-95991c82acfa"
      },
      "execution_count": 32,
      "outputs": [
        {
          "output_type": "stream",
          "name": "stdout",
          "text": [
            "(891, 12)\n"
          ]
        }
      ]
    },
    {
      "cell_type": "code",
      "source": [
        "print(df[~((df[\"Fare\"] < low) | (df[\"Fare\"] > up))].shape)"
      ],
      "metadata": {
        "colab": {
          "base_uri": "https://localhost:8080/"
        },
        "id": "bxwAVKugG6vO",
        "outputId": "33289807-2b4d-49e9-e5e2-35a135dadd44"
      },
      "execution_count": 33,
      "outputs": [
        {
          "output_type": "stream",
          "name": "stdout",
          "text": [
            "(775, 12)\n"
          ]
        }
      ]
    },
    {
      "cell_type": "code",
      "source": [
        "def remove_outlier(dataframe, col_name):\n",
        "    low_limit, up_limit = outlier_thresholds(dataframe, col_name)\n",
        "    df_without_outliers = dataframe[~((dataframe[col_name] < low_limit) | (dataframe[col_name] > up_limit))]\n",
        "    return df_without_outliers"
      ],
      "metadata": {
        "id": "Po1ZmbP7G6sb"
      },
      "execution_count": 34,
      "outputs": []
    },
    {
      "cell_type": "code",
      "source": [
        "cat_cols, num_cols, cat_but_car = grab_col_names(df)"
      ],
      "metadata": {
        "colab": {
          "base_uri": "https://localhost:8080/"
        },
        "id": "qRvuvb7kG6pp",
        "outputId": "056c2ab7-36a7-4cec-adcd-899cd6125ed7"
      },
      "execution_count": 35,
      "outputs": [
        {
          "output_type": "stream",
          "name": "stdout",
          "text": [
            "Observations: 891\n",
            "Variables: 12\n",
            "cat_cols: 6\n",
            "num_cols: 3\n",
            "cat_but_car: 3\n",
            "num_but_cat: 4\n"
          ]
        }
      ]
    },
    {
      "cell_type": "code",
      "source": [
        "num_cols.remove('PassengerId')\n"
      ],
      "metadata": {
        "id": "no5foHmUG6nN"
      },
      "execution_count": 36,
      "outputs": []
    },
    {
      "cell_type": "code",
      "source": [
        "for col in num_cols:\n",
        "    df = remove_outlier(df,col)"
      ],
      "metadata": {
        "id": "aUaaz5i3G6fN"
      },
      "execution_count": 37,
      "outputs": []
    },
    {
      "cell_type": "code",
      "source": [
        "print(df.shape)"
      ],
      "metadata": {
        "colab": {
          "base_uri": "https://localhost:8080/"
        },
        "id": "wlk8cDKiHSJP",
        "outputId": "e95d42c8-44c7-4841-f92b-7cfe5eac80d9"
      },
      "execution_count": 38,
      "outputs": [
        {
          "output_type": "stream",
          "name": "stdout",
          "text": [
            "(765, 12)\n"
          ]
        }
      ]
    },
    {
      "cell_type": "code",
      "source": [
        "def replace_with_thresholds(dataframe, variable):\n",
        "    low_limit, up_limit = outlier_thresholds(dataframe, variable)\n",
        "    dataframe.loc[(dataframe[variable] < low_limit), variable] = low_limit\n",
        "    dataframe.loc[(dataframe[variable] > up_limit), variable] = up_limit\n"
      ],
      "metadata": {
        "id": "BEVCawulHSFz"
      },
      "execution_count": 39,
      "outputs": []
    },
    {
      "cell_type": "code",
      "source": [
        "df = load()"
      ],
      "metadata": {
        "id": "3seoXl8THSDm"
      },
      "execution_count": 40,
      "outputs": []
    },
    {
      "cell_type": "code",
      "source": [
        "cat_cols, num_cols, cat_but_car = grab_col_names(df)"
      ],
      "metadata": {
        "colab": {
          "base_uri": "https://localhost:8080/"
        },
        "id": "KL22GcHxHSBL",
        "outputId": "2d62b76a-07a8-4f32-8f71-31501abeef67"
      },
      "execution_count": 41,
      "outputs": [
        {
          "output_type": "stream",
          "name": "stdout",
          "text": [
            "Observations: 891\n",
            "Variables: 12\n",
            "cat_cols: 6\n",
            "num_cols: 3\n",
            "cat_but_car: 3\n",
            "num_but_cat: 4\n"
          ]
        }
      ]
    },
    {
      "cell_type": "code",
      "source": [
        "num_cols.remove('PassengerId')"
      ],
      "metadata": {
        "id": "L5swKLI6HR-8"
      },
      "execution_count": 42,
      "outputs": []
    },
    {
      "cell_type": "code",
      "source": [
        "for col in num_cols:\n",
        "    print(col, check_outlier(df, col))"
      ],
      "metadata": {
        "colab": {
          "base_uri": "https://localhost:8080/"
        },
        "id": "KCSOyGjhHR8w",
        "outputId": "d5ed7a33-f31c-4db7-e39c-2688ecbd3591"
      },
      "execution_count": 43,
      "outputs": [
        {
          "output_type": "stream",
          "name": "stdout",
          "text": [
            "Age True\n",
            "Fare True\n"
          ]
        }
      ]
    },
    {
      "cell_type": "code",
      "source": [
        "for col in num_cols:\n",
        "    replace_with_thresholds(df, col)\n"
      ],
      "metadata": {
        "id": "TT6HFshlHR6E"
      },
      "execution_count": 44,
      "outputs": []
    },
    {
      "cell_type": "code",
      "source": [
        "for col in num_cols:\n",
        "    print(col, check_outlier(df, col))\n"
      ],
      "metadata": {
        "colab": {
          "base_uri": "https://localhost:8080/"
        },
        "id": "0671AC_uHR3h",
        "outputId": "d20440d7-4797-488e-8231-a2ed76eb8b9f"
      },
      "execution_count": 45,
      "outputs": [
        {
          "output_type": "stream",
          "name": "stdout",
          "text": [
            "Age False\n",
            "Fare False\n"
          ]
        }
      ]
    },
    {
      "cell_type": "code",
      "source": [
        "df = sns.load_dataset('diamonds')\n",
        "print(df.shape)\n",
        "print(df.head())"
      ],
      "metadata": {
        "colab": {
          "base_uri": "https://localhost:8080/"
        },
        "id": "9L9f2oJcHR1H",
        "outputId": "0829695f-5245-4a14-810c-c2dac860fb99"
      },
      "execution_count": 46,
      "outputs": [
        {
          "output_type": "stream",
          "name": "stdout",
          "text": [
            "(53940, 10)\n",
            "   carat      cut color clarity  depth  table  price     x     y     z\n",
            "0   0.23    Ideal     E     SI2   61.5   55.0    326  3.95  3.98  2.43\n",
            "1   0.21  Premium     E     SI1   59.8   61.0    326  3.89  3.84  2.31\n",
            "2   0.23     Good     E     VS1   56.9   65.0    327  4.05  4.07  2.31\n",
            "3   0.29  Premium     I     VS2   62.4   58.0    334  4.20  4.23  2.63\n",
            "4   0.31     Good     J     SI2   63.3   58.0    335  4.34  4.35  2.75\n"
          ]
        }
      ]
    },
    {
      "cell_type": "code",
      "source": [
        "df = df.select_dtypes(include=['float64', 'int64'])\n",
        "df = df.dropna()\n",
        "print(df.shape)\n",
        "print(df.head())"
      ],
      "metadata": {
        "colab": {
          "base_uri": "https://localhost:8080/"
        },
        "id": "iV5w0wk2Hhec",
        "outputId": "1ac0e698-0c6b-43c5-df89-aef6c57d80dd"
      },
      "execution_count": 47,
      "outputs": [
        {
          "output_type": "stream",
          "name": "stdout",
          "text": [
            "(53940, 7)\n",
            "   carat  depth  table  price     x     y     z\n",
            "0   0.23   61.5   55.0    326  3.95  3.98  2.43\n",
            "1   0.21   59.8   61.0    326  3.89  3.84  2.31\n",
            "2   0.23   56.9   65.0    327  4.05  4.07  2.31\n",
            "3   0.29   62.4   58.0    334  4.20  4.23  2.63\n",
            "4   0.31   63.3   58.0    335  4.34  4.35  2.75\n"
          ]
        }
      ]
    },
    {
      "cell_type": "code",
      "source": [
        "for col in df.columns:\n",
        "    print(col, check_outlier(df, col))"
      ],
      "metadata": {
        "colab": {
          "base_uri": "https://localhost:8080/"
        },
        "id": "O24GLv7oHha3",
        "outputId": "9a80abc2-fb5f-444b-a5de-1a1d39a3208b"
      },
      "execution_count": 48,
      "outputs": [
        {
          "output_type": "stream",
          "name": "stdout",
          "text": [
            "carat True\n",
            "depth True\n",
            "table True\n",
            "price True\n",
            "x True\n",
            "y True\n",
            "z True\n"
          ]
        }
      ]
    },
    {
      "cell_type": "code",
      "source": [
        "low, up = outlier_thresholds(df, \"carat\")\n",
        "print(df[((df[\"carat\"] < low) | (df[\"carat\"] > up))].shape)"
      ],
      "metadata": {
        "colab": {
          "base_uri": "https://localhost:8080/"
        },
        "id": "xG0P3sxvHhYw",
        "outputId": "6762c20a-47d3-4744-f28e-f9cbd8840c8d"
      },
      "execution_count": 49,
      "outputs": [
        {
          "output_type": "stream",
          "name": "stdout",
          "text": [
            "(1889, 7)\n"
          ]
        }
      ]
    },
    {
      "cell_type": "code",
      "source": [
        "low, up = outlier_thresholds(df, \"depth\")\n",
        "print(df[((df[\"depth\"] < low) | (df[\"depth\"] > up))].shape)"
      ],
      "metadata": {
        "colab": {
          "base_uri": "https://localhost:8080/"
        },
        "id": "S_h9LnOlHhWO",
        "outputId": "28ae69bd-f616-4acd-97d3-8937301fec50"
      },
      "execution_count": 50,
      "outputs": [
        {
          "output_type": "stream",
          "name": "stdout",
          "text": [
            "(2545, 7)\n"
          ]
        }
      ]
    },
    {
      "cell_type": "code",
      "source": [
        "clf = LocalOutlierFactor(n_neighbors=20)\n",
        "clf.fit_predict(df)\n",
        "df_scores = clf.negative_outlier_factor_\n",
        "print(df_scores)"
      ],
      "metadata": {
        "colab": {
          "base_uri": "https://localhost:8080/"
        },
        "id": "opH3lBYNHhTn",
        "outputId": "86b74af6-d891-4ce8-a8b2-83d44ac4b3f6"
      },
      "execution_count": 51,
      "outputs": [
        {
          "output_type": "stream",
          "name": "stdout",
          "text": [
            "[-1.58352526 -1.59732899 -1.62278873 ... -1.06721815 -1.00809552\n",
            " -1.00849038]\n"
          ]
        }
      ]
    },
    {
      "cell_type": "code",
      "source": [
        "print(np.sort(df_scores)[0:5])"
      ],
      "metadata": {
        "colab": {
          "base_uri": "https://localhost:8080/"
        },
        "id": "5E2q5kbIHhRL",
        "outputId": "def81226-65f7-4326-90d5-67b83335a15f"
      },
      "execution_count": 52,
      "outputs": [
        {
          "output_type": "stream",
          "name": "stdout",
          "text": [
            "[-8.60430658 -8.20889984 -5.86084355 -4.98415175 -4.81502092]\n"
          ]
        }
      ]
    },
    {
      "cell_type": "code",
      "source": [
        "scores = pd.DataFrame(np.sort(df_scores))\n",
        "scores.plot(stacked=True, xlim=[0, 20], style='.-')\n",
        "plt.show()"
      ],
      "metadata": {
        "colab": {
          "base_uri": "https://localhost:8080/",
          "height": 430
        },
        "id": "GWROC6iXHhOr",
        "outputId": "4538aab0-34cc-4025-f06f-8f7734396f35"
      },
      "execution_count": 53,
      "outputs": [
        {
          "output_type": "display_data",
          "data": {
            "text/plain": [
              "<Figure size 640x480 with 1 Axes>"
            ],
            "image/png": "[encoded data removed]"
          },
          "metadata": {}
        }
      ]
    },
    {
      "cell_type": "code",
      "source": [
        "th = np.sort(df_scores)[3]\n",
        "print(th)"
      ],
      "metadata": {
        "colab": {
          "base_uri": "https://localhost:8080/"
        },
        "id": "TB7OROUVHhMQ",
        "outputId": "10c8a406-9d69-4278-c3b6-0b57e00ae78f"
      },
      "execution_count": 54,
      "outputs": [
        {
          "output_type": "stream",
          "name": "stdout",
          "text": [
            "-4.984151747711709\n"
          ]
        }
      ]
    },
    {
      "cell_type": "code",
      "source": [
        "print(df[df_scores < th])"
      ],
      "metadata": {
        "colab": {
          "base_uri": "https://localhost:8080/"
        },
        "id": "CpQbqcp6HhJ2",
        "outputId": "29c20b5b-1ab4-4819-da15-4b68d9cf027f"
      },
      "execution_count": 55,
      "outputs": [
        {
          "output_type": "stream",
          "name": "stdout",
          "text": [
            "       carat  depth  table  price     x      y      z\n",
            "41918   1.03   78.2   54.0   1262  5.72   5.59   4.42\n",
            "48410   0.51   61.8   54.7   1970  5.12   5.15  31.80\n",
            "49189   0.51   61.8   55.0   2075  5.15  31.80   5.12\n"
          ]
        }
      ]
    },
    {
      "cell_type": "code",
      "source": [
        "print(df.drop(axis=0, labels=df[df_scores < th].index).shape)"
      ],
      "metadata": {
        "colab": {
          "base_uri": "https://localhost:8080/"
        },
        "id": "7r2XJ26kHhHP",
        "outputId": "43766621-a03c-4cdb-fa4c-29a79b94f699"
      },
      "execution_count": 56,
      "outputs": [
        {
          "output_type": "stream",
          "name": "stdout",
          "text": [
            "(53937, 7)\n"
          ]
        }
      ]
    }
  ]
}