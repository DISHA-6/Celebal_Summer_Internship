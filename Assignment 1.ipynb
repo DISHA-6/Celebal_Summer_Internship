{
 "cells": [
  {
   "cell_type": "code",
   "execution_count": 21,
   "id": "50329f02",
   "metadata": {},
   "outputs": [
    {
     "name": "stdout",
     "output_type": "stream",
     "text": [
      "Enter the number of rows:6\n",
      "\n",
      "Lower Triangular:\n",
      "\n",
      "* \n",
      "* * \n",
      "* * * \n",
      "* * * * \n",
      "* * * * * \n",
      "* * * * * * \n",
      "\n",
      "Upper Triangular:\n",
      "\n",
      "* * * * * * \n",
      "* * * * * \n",
      "* * * * \n",
      "* * * \n",
      "* * \n",
      "* \n",
      "\n",
      "Pyramid:\n",
      "\n",
      "          * \n",
      "        * * * \n",
      "      * * * * * \n",
      "    * * * * * * * \n",
      "  * * * * * * * * * \n",
      "* * * * * * * * * * * \n"
     ]
    }
   ],
   "source": [
    "def lower(rows): \n",
    "    for i in range(rows): \n",
    "        for j in range(i+1): \n",
    "            print(\"*\",end=\" \")\n",
    "        print()\n",
    "def upper(rows): \n",
    "    for i in range(rows,0,-1): \n",
    "        for j in range(0,i): \n",
    "            print(\"*\",end=\" \")\n",
    "        print()\n",
    "def pyramid(rows):\n",
    "    k = 0\n",
    "    for i in range(1, rows+1):\n",
    "        for space in range(1, (rows-i)+1):\n",
    "            print(end=\"  \")\n",
    "        while k!=(2*i-1):\n",
    "            print(\"* \", end=\"\")\n",
    "            k += 1\n",
    "        k = 0\n",
    "        print()         \n",
    "\n",
    "rows=int(input(\"Enter the number of rows:\"))\n",
    "print(\"\\nLower Triangular:\\n\")\n",
    "lower(rows)\n",
    "print(\"\\nUpper Triangular:\\n\")\n",
    "upper(rows);\n",
    "print(\"\\nPyramid:\\n\")\n",
    "pyramid(rows)\n",
    "\n",
    "\n"
   ]
  },
  {
   "cell_type": "code",
   "execution_count": null,
   "id": "adc4fe5c",
   "metadata": {},
   "outputs": [],
   "source": [
    "\n",
    "          \n",
    "\n"
   ]
  },
  {
   "cell_type": "code",
   "execution_count": null,
   "id": "e675aef6",
   "metadata": {},
   "outputs": [],
   "source": [
    "\n",
    "\n",
    "\n"
   ]
  },
  {
   "cell_type": "code",
   "execution_count": null,
   "id": "c7fa8d7e",
   "metadata": {},
   "outputs": [],
   "source": []
  }
 ],
 "metadata": {
  "kernelspec": {
   "display_name": "Python 3 (ipykernel)",
   "language": "python",
   "name": "python3"
  },
  "language_info": {
   "codemirror_mode": {
    "name": "ipython",
    "version": 3
   },
   "file_extension": ".py",
   "mimetype": "text/x-python",
   "name": "python",
   "nbconvert_exporter": "python",
   "pygments_lexer": "ipython3",
   "version": "3.11.4"
  }
 },
 "nbformat": 4,
 "nbformat_minor": 5
}
